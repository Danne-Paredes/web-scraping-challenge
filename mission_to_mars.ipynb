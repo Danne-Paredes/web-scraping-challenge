{
 "cells": [
  {
   "cell_type": "code",
   "execution_count": 53,
   "metadata": {},
   "outputs": [],
   "source": [
    "from splinter import Browser\n",
    "from bs4 import BeautifulSoup\n",
    "import time"
   ]
  },
  {
   "cell_type": "code",
   "execution_count": 30,
   "metadata": {
    "tags": []
   },
   "outputs": [
    {
     "output_type": "stream",
     "name": "stdout",
     "text": "/usr/local/bin/chromedriver\n"
    }
   ],
   "source": [
    "# Necessary for Mac\n",
    "!which chromedriver\n",
    "\n",
    "\n",
    "# Mac executable path\n",
    "executable_path = {'executable_path': '/usr/local/bin/chromedriver'}\n",
    "\n",
    "# Windows executable path(comment out '!which chromedrive' to make it work)\n",
    "# executable_path = {'executable_path': 'chromedriver.exe'}\n",
    "\n",
    "browser = Browser('chrome', **executable_path, headless=False)"
   ]
  },
  {
   "cell_type": "code",
   "execution_count": 7,
   "metadata": {},
   "outputs": [],
   "source": [
    "# define url and visit\n",
    "url = 'https://mars.nasa.gov/news/'\n",
    "browser.visit(url)"
   ]
  },
  {
   "cell_type": "markdown",
   "metadata": {},
   "source": [
    "<h1>NASA Mars News</h1>"
   ]
  },
  {
   "cell_type": "code",
   "execution_count": 25,
   "metadata": {
    "tags": []
   },
   "outputs": [
    {
     "output_type": "stream",
     "name": "stdout",
     "text": "NASA's InSight Flexes Its Arm While Its 'Mole' Hits Pause\n"
    }
   ],
   "source": [
    "\n",
    "# html parser boiler plate\n",
    "html = browser.html\n",
    "soup = BeautifulSoup(html, 'html.parser')\n",
    "\n",
    "# have to dig into article before pulling news title to avoid conflict in navbar\n",
    "articles = soup.find('div', class_='image_and_description_container')\n",
    "news_title = articles.find('div', class_='content_title').get_text()\n",
    "news_p = articles.find('div', class_='article_teaser_body').get_text()\n",
    "\n",
    "print(news_title)"
   ]
  },
  {
   "cell_type": "markdown",
   "metadata": {},
   "source": [
    "<h1>JPL Mars Space Images - Featured Image</h1>"
   ]
  },
  {
   "cell_type": "code",
   "execution_count": 31,
   "metadata": {},
   "outputs": [],
   "source": [
    "\n",
    "# define url and visit\n",
    "url = 'https://www.jpl.nasa.gov/spaceimages/?search=&category=Mars'\n",
    "browser.visit(url)"
   ]
  },
  {
   "cell_type": "code",
   "execution_count": 57,
   "metadata": {
    "tags": []
   },
   "outputs": [
    {
     "output_type": "stream",
     "name": "stdout",
     "text": "/spaceimages/images/mediumsize/PIA16837_ip.jpg\n"
    }
   ],
   "source": [
    "\n",
    "# html parser boiler plate\n",
    "html = browser.html\n",
    "soup = BeautifulSoup(html, 'html.parser')\n",
    "base_url= 'https://www.jpl.nasa.gov'\n",
    "\n",
    "\n",
    "#  ### WHY DOESNT IT WORK WITH CLICK????,\n",
    "# have to click image to see source\n",
    "# browser.click_link_by_partial_text('FULL IMAGE')\n",
    "\n",
    "\n",
    "\n",
    "image = soup.find('div', id='fancybox-lock')\n",
    "src_url = image.find('img')\n",
    "print(src_url['src'])"
   ]
  },
  {
   "cell_type": "markdown",
   "metadata": {},
   "source": [
    "<h1>Mars Weather</h1>"
   ]
  },
  {
   "cell_type": "code",
   "execution_count": 59,
   "metadata": {},
   "outputs": [],
   "source": [
    "\n",
    "# define url and visit\n",
    "url = 'https://twitter.com/marswxreport?lang=en'\n",
    "browser.visit(url)"
   ]
  },
  {
   "cell_type": "code",
   "execution_count": 73,
   "metadata": {
    "tags": []
   },
   "outputs": [
    {
     "output_type": "stream",
     "name": "stdout",
     "text": "FollowMars Weather@MarsWxReportUpdates as avail from the REMS weather instrument aboard @MarsCuriosity.  Data credit: Centro deAstrobiologia, FMI, JPL/NASA, Not an official acct.Gale Crater, Marsmars.nasa.gov/news/8415/insi…Joined August 201252 Following57.4K FollowersTweetsTweets & repliesMediaLikesTweetsTweets & repliesMediaLikesMars Weather’s TweetsMars Weather RetweetedTony Rice@rtphokie·Jul 3Next time a launch attempt is scrubbed for weather at @NASAKennedy, remember this image.Quote TweetSammy Hadi@SammyHadiWx · Jul 3Great example of an Island Sea-Breeze over Grand Bahama. \n#WeatherExplained #SciFriday  twitter.com/spann/status/1…320Mars Weather@MarsWxReport·Jul 1InSight sol 566 (2020-06-29) low -88.4ºC (-127.1ºF) high -4.2ºC (24.4ºF)\nwinds from the WNW at 5.1 m/s (11.5 mph) gusting to 16.8 m/s (37.6 mph)\npressure at 7.70 hPa1339Mars Weather RetweetedNational Air and Space Museum@airandspace·Jul 1It's our birthday! On this day in 1976, a signal from the Viking 1 spacecraft orbiting Mars triggered the ribbon cutting at the opening of our Museum in DC.20179801Show this threadMars Weather@MarsWxReport·Jun 30Looking forward to getting another set of weather instruments on MarsQuote TweetNASA's Perseverance Mars Rover@NASAPersevere · Jun 30Due to processing delays in preparations to unite me with the rocket, my first launch attempt will be no earlier than July 30. @NASA and @ulalaunch are working to update the target launch date and have been able to expand the launch period until Aug. 15. http://go.nasa.gov/2YMo0fF121New to Twitter?Sign up now to get your own personalized timeline!Sign upYou might likeNASA InSight@NASAInSightFollowAnahi de Cardenas@anahidecFollowPlanetary Society@exploreplanetsFollowShow moreTrending nowWhat’s happeningCOVID-19·4 hours agoTrump administration tells Congress that it is withdrawing the US from WHOTrending in United StatesTik TokCelebrities · TrendingKyliePolitics·This morningTammy Duckworth responds to Tucker Carlson after TV host questions her patriotismPolitics · TrendingIlhan OmarShow moreTermsPrivacy policyCookiesAds infoMore© 2020 Twitter, Inc.\n"
    }
   ],
   "source": [
    "# html parser boiler plate\n",
    "html = browser.html\n",
    "soup = BeautifulSoup(html, 'html.parser')\n",
    "\n",
    "\n",
    "# have to dig into article before pulling news title to avoid conflict in navbar\n",
    "main = soup.find('main', class_='css-1dbjc4n r-16y2uox r-1wbh5a2').\n",
    "# div = main.find('div', class_='css-901oao r-hkyrab r-1qd0xha r-1blvdjr r-16dba41 r-ad9z0x r-bcqeeo r-bnwqim r-qvutc0')\n",
    "# tweet=div.find('div',class_='css-901oao r-hkyrab r-1qd0xha r-a023e6 r-16dba41 r-ad9z0x r-1g94qm0 r-bcqeeo r-bnwqim r-qvutc0').get_text()\n",
    "# tweets = div.find_all('span', class_='css-901oao css-16my406 r-1qd0xha r-ad9z0x r-bcqeeo r-qvutc0').get_text()\n",
    "\n",
    "# for tweet in tweets:\n",
    "#     print(tweet)\n",
    " \n",
    "print(main)\n",
    "# div lang=\"en\" dir=\"auto\" class=\"css-901oao r-hkyrab r-1qd0xha r-a023e6 r-16dba41 r-ad9z0x r-1g94qm0 r-bcqeeo r-bnwqim r-qvutc0\""
   ]
  },
  {
   "cell_type": "code",
   "execution_count": null,
   "metadata": {},
   "outputs": [],
   "source": []
  },
  {
   "cell_type": "markdown",
   "metadata": {},
   "source": [
    "<h1>Mars Facts</h1>"
   ]
  },
  {
   "cell_type": "code",
   "execution_count": null,
   "metadata": {},
   "outputs": [],
   "source": []
  },
  {
   "cell_type": "markdown",
   "metadata": {},
   "source": [
    "<h1>Mars Hemispheres</h1>"
   ]
  },
  {
   "cell_type": "code",
   "execution_count": null,
   "metadata": {},
   "outputs": [],
   "source": []
  }
 ],
 "metadata": {
  "language_info": {
   "codemirror_mode": {
    "name": "ipython",
    "version": 3
   },
   "file_extension": ".py",
   "mimetype": "text/x-python",
   "name": "python",
   "nbconvert_exporter": "python",
   "pygments_lexer": "ipython3",
   "version": 3
  },
  "orig_nbformat": 2,
  "kernelspec": {
   "name": "python_defaultSpec_1594153284212",
   "display_name": "Python 3.7.7 64-bit ('py35': conda)"
  }
 },
 "nbformat": 4,
 "nbformat_minor": 2
}